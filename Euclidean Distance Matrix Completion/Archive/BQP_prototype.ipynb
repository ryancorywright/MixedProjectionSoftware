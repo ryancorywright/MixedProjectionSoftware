{
 "cells": [
  {
   "cell_type": "code",
   "execution_count": 4,
   "metadata": {},
   "outputs": [],
   "source": [
    "using JuMP, Mosek, Gurobi, DelimitedFiles"
   ]
  },
  {
   "cell_type": "code",
   "execution_count": 9,
   "metadata": {},
   "outputs": [],
   "source": [
    "BQPData=readdlm(\"bqp50.txt\"); #Maximization objective\n",
    "starts=[2, 114, 238, 375, 491, 630, 746, 874, 1022, 1152]\n",
    "for ARG in [\"1\"]\n",
    "    startNum = parse(Int, ARG)\n",
    "    start=starts[startNum]\n",
    "    n=BQPData[start,1];\n",
    "    Q=zeros(n,n);\n",
    "    nRows=BQPData[start,2]\n",
    "    for i=(start+1):(start+nRows)\n",
    "       Q[BQPData[i,1],BQPData[i,2]] =BQPData[i,3]\n",
    "       Q[BQPData[i,2],BQPData[i,1]] =BQPData[i,3] # Make it symmetric\n",
    "    end\n",
    "   c=zeros(n)\n",
    "end"
   ]
  },
  {
   "cell_type": "code",
   "execution_count": 8,
   "metadata": {},
   "outputs": [
    {
     "ename": "UndefVarError",
     "evalue": "UndefVarError: Q not defined",
     "output_type": "error",
     "traceback": [
      "UndefVarError: Q not defined",
      "",
      "Stacktrace:",
      " [1] top-level scope at In[8]:1"
     ]
    }
   ],
   "source": []
  },
  {
   "cell_type": "code",
   "execution_count": null,
   "metadata": {},
   "outputs": [],
   "source": []
  }
 ],
 "metadata": {
  "kernelspec": {
   "display_name": "Julia 1.3.0",
   "language": "julia",
   "name": "julia-1.3"
  },
  "language_info": {
   "file_extension": ".jl",
   "mimetype": "application/julia",
   "name": "julia",
   "version": "1.3.0"
  }
 },
 "nbformat": 4,
 "nbformat_minor": 2
}
